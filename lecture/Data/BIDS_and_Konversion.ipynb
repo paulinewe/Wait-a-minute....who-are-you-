{
 "cells": [
  {
   "cell_type": "markdown",
   "id": "375a8794",
   "metadata": {},
   "source": [
    "\n",
    "# Wait-a-minute-who-are-you?- Data conversion\n",
    "by Pauline Wetzel\n",
    "\n",
    "This notebook contains commented steps and code for the conversion of the fMRI data used for this analysis into the BIDS format, necessary for preprocessing.\n",
    "\n",
    "<img src=\"https://media.giphy.com/media/agmheddabICHK/giphy.gif\" width=\"200\" height=\"200\" />"
   ]
  },
  {
   "cell_type": "markdown",
   "id": "f2ff0d44",
   "metadata": {},
   "source": [
    "## Step 1: having a look at the trail file\n",
    "\n",
    "As the original data is not in a BIDS format, it is necessary to transform it, therefore the information about the trails is need. The data set provides matlab files which firstly need to be transformed in a data frame that can be used with Python. Therefore I needed to `pip install pysmatreader`to the enviroment."
   ]
  },
  {
   "cell_type": "code",
   "execution_count": 32,
   "id": "2f33f307",
   "metadata": {},
   "outputs": [
    {
     "ename": "ModuleNotFoundError",
     "evalue": "No module named 'pandas'",
     "output_type": "error",
     "traceback": [
      "\u001b[0;31m---------------------------------------------------------------------------\u001b[0m",
      "\u001b[0;31mModuleNotFoundError\u001b[0m                       Traceback (most recent call last)",
      "\u001b[0;32m/tmp/ipykernel_112/2236588393.py\u001b[0m in \u001b[0;36m<module>\u001b[0;34m\u001b[0m\n\u001b[1;32m      1\u001b[0m \u001b[0;32mfrom\u001b[0m \u001b[0mpymatreader\u001b[0m \u001b[0;32mimport\u001b[0m \u001b[0mread_mat\u001b[0m\u001b[0;34m\u001b[0m\u001b[0m\n\u001b[0;32m----> 2\u001b[0;31m \u001b[0;32mimport\u001b[0m \u001b[0mpandas\u001b[0m \u001b[0;32mas\u001b[0m \u001b[0mpd\u001b[0m\u001b[0;34m\u001b[0m\u001b[0m\n\u001b[0m",
      "\u001b[0;31mModuleNotFoundError\u001b[0m: No module named 'pandas'"
     ]
    }
   ],
   "source": [
    "from pymatreader import read_mat\n",
    "import pandas as pd"
   ]
  },
  {
   "cell_type": "code",
   "execution_count": 28,
   "id": "c05ea582",
   "metadata": {},
   "outputs": [
    {
     "data": {
      "text/plain": [
       "'/mnt/d/S01/Trials'"
      ]
     },
     "execution_count": 28,
     "metadata": {},
     "output_type": "execute_result"
    }
   ],
   "source": [
    "pwd /mnt/d/S01/Trials"
   ]
  },
  {
   "cell_type": "code",
   "execution_count": 29,
   "id": "91605d56",
   "metadata": {},
   "outputs": [],
   "source": [
    "data = read_mat('runlog_S01.mat')"
   ]
  },
  {
   "cell_type": "code",
   "execution_count": 30,
   "id": "d4544ff6",
   "metadata": {},
   "outputs": [
    {
     "data": {
      "text/plain": [
       "dict_keys(['__header__', '__version__', '__globals__', 'run_log_struct'])"
      ]
     },
     "execution_count": 30,
     "metadata": {},
     "output_type": "execute_result"
    }
   ],
   "source": [
    "data.keys()"
   ]
  },
  {
   "cell_type": "code",
   "execution_count": 31,
   "id": "85ef8475",
   "metadata": {},
   "outputs": [
    {
     "ename": "NameError",
     "evalue": "name 'pd' is not defined",
     "output_type": "error",
     "traceback": [
      "\u001b[0;31m---------------------------------------------------------------------------\u001b[0m",
      "\u001b[0;31mNameError\u001b[0m                                 Traceback (most recent call last)",
      "\u001b[0;32m/tmp/ipykernel_112/2063908374.py\u001b[0m in \u001b[0;36m<module>\u001b[0;34m\u001b[0m\n\u001b[0;32m----> 1\u001b[0;31m \u001b[0mdf\u001b[0m \u001b[0;34m=\u001b[0m \u001b[0mpd\u001b[0m\u001b[0;34m.\u001b[0m\u001b[0mDataFrame\u001b[0m\u001b[0;34m(\u001b[0m\u001b[0mdata\u001b[0m\u001b[0;34m[\u001b[0m\u001b[0;34m'run_log_struct'\u001b[0m\u001b[0;34m]\u001b[0m\u001b[0;34m)\u001b[0m\u001b[0;34m\u001b[0m\u001b[0m\n\u001b[0m",
      "\u001b[0;31mNameError\u001b[0m: name 'pd' is not defined"
     ]
    }
   ],
   "source": [
    "df = pd.DataFrame(data['run_log_struct'])"
   ]
  },
  {
   "cell_type": "code",
   "execution_count": null,
   "id": "faaf9ec1",
   "metadata": {},
   "outputs": [],
   "source": []
  }
 ],
 "metadata": {
  "kernelspec": {
   "display_name": "neuro_ai",
   "language": "python",
   "name": "neuro_ai"
  },
  "language_info": {
   "codemirror_mode": {
    "name": "ipython",
    "version": 3
   },
   "file_extension": ".py",
   "mimetype": "text/x-python",
   "name": "python",
   "nbconvert_exporter": "python",
   "pygments_lexer": "ipython3",
   "version": "3.7.0"
  }
 },
 "nbformat": 4,
 "nbformat_minor": 5
}
